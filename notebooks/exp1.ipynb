{
 "cells": [
  {
   "cell_type": "code",
   "execution_count": 1,
   "metadata": {},
   "outputs": [
    {
     "name": "stdout",
     "output_type": "stream",
     "text": [
      "Requirement already satisfied: nltk in c:\\users\\ayush\\onedrive\\desktop\\capstone project\\capstone-project\\.venv\\lib\\site-packages (3.9.2)\n",
      "Requirement already satisfied: mlflow in c:\\users\\ayush\\onedrive\\desktop\\capstone project\\capstone-project\\.venv\\lib\\site-packages (3.5.1)\n",
      "Requirement already satisfied: scikit-learn in c:\\users\\ayush\\onedrive\\desktop\\capstone project\\capstone-project\\.venv\\lib\\site-packages (1.7.2)\n",
      "Requirement already satisfied: pandas in c:\\users\\ayush\\onedrive\\desktop\\capstone project\\capstone-project\\.venv\\lib\\site-packages (2.3.3)\n",
      "Requirement already satisfied: numpy in c:\\users\\ayush\\onedrive\\desktop\\capstone project\\capstone-project\\.venv\\lib\\site-packages (2.3.4)\n",
      "Requirement already satisfied: click in c:\\users\\ayush\\onedrive\\desktop\\capstone project\\capstone-project\\.venv\\lib\\site-packages (from nltk) (8.3.0)\n",
      "Requirement already satisfied: joblib in c:\\users\\ayush\\onedrive\\desktop\\capstone project\\capstone-project\\.venv\\lib\\site-packages (from nltk) (1.5.2)\n",
      "Requirement already satisfied: regex>=2021.8.3 in c:\\users\\ayush\\onedrive\\desktop\\capstone project\\capstone-project\\.venv\\lib\\site-packages (from nltk) (2025.10.23)\n",
      "Requirement already satisfied: tqdm in c:\\users\\ayush\\onedrive\\desktop\\capstone project\\capstone-project\\.venv\\lib\\site-packages (from nltk) (4.67.1)\n",
      "Requirement already satisfied: mlflow-skinny==3.5.1 in c:\\users\\ayush\\onedrive\\desktop\\capstone project\\capstone-project\\.venv\\lib\\site-packages (from mlflow) (3.5.1)\n",
      "Requirement already satisfied: mlflow-tracing==3.5.1 in c:\\users\\ayush\\onedrive\\desktop\\capstone project\\capstone-project\\.venv\\lib\\site-packages (from mlflow) (3.5.1)\n",
      "Requirement already satisfied: Flask-CORS<7 in c:\\users\\ayush\\onedrive\\desktop\\capstone project\\capstone-project\\.venv\\lib\\site-packages (from mlflow) (6.0.1)\n",
      "Requirement already satisfied: Flask<4 in c:\\users\\ayush\\onedrive\\desktop\\capstone project\\capstone-project\\.venv\\lib\\site-packages (from mlflow) (3.1.2)\n",
      "Requirement already satisfied: alembic!=1.10.0,<2 in c:\\users\\ayush\\onedrive\\desktop\\capstone project\\capstone-project\\.venv\\lib\\site-packages (from mlflow) (1.17.0)\n",
      "Requirement already satisfied: cryptography<47,>=43.0.0 in c:\\users\\ayush\\onedrive\\desktop\\capstone project\\capstone-project\\.venv\\lib\\site-packages (from mlflow) (46.0.3)\n",
      "Requirement already satisfied: docker<8,>=4.0.0 in c:\\users\\ayush\\onedrive\\desktop\\capstone project\\capstone-project\\.venv\\lib\\site-packages (from mlflow) (7.1.0)\n",
      "Requirement already satisfied: graphene<4 in c:\\users\\ayush\\onedrive\\desktop\\capstone project\\capstone-project\\.venv\\lib\\site-packages (from mlflow) (3.4.3)\n",
      "Requirement already satisfied: matplotlib<4 in c:\\users\\ayush\\onedrive\\desktop\\capstone project\\capstone-project\\.venv\\lib\\site-packages (from mlflow) (3.10.7)\n",
      "Requirement already satisfied: pyarrow<22,>=4.0.0 in c:\\users\\ayush\\onedrive\\desktop\\capstone project\\capstone-project\\.venv\\lib\\site-packages (from mlflow) (21.0.0)\n",
      "Requirement already satisfied: scipy<2 in c:\\users\\ayush\\onedrive\\desktop\\capstone project\\capstone-project\\.venv\\lib\\site-packages (from mlflow) (1.16.2)\n",
      "Requirement already satisfied: sqlalchemy<3,>=1.4.0 in c:\\users\\ayush\\onedrive\\desktop\\capstone project\\capstone-project\\.venv\\lib\\site-packages (from mlflow) (2.0.44)\n",
      "Requirement already satisfied: waitress<4 in c:\\users\\ayush\\onedrive\\desktop\\capstone project\\capstone-project\\.venv\\lib\\site-packages (from mlflow) (2.1.2)\n",
      "Requirement already satisfied: cachetools<7,>=5.0.0 in c:\\users\\ayush\\onedrive\\desktop\\capstone project\\capstone-project\\.venv\\lib\\site-packages (from mlflow-skinny==3.5.1->mlflow) (6.2.1)\n",
      "Requirement already satisfied: cloudpickle<4 in c:\\users\\ayush\\onedrive\\desktop\\capstone project\\capstone-project\\.venv\\lib\\site-packages (from mlflow-skinny==3.5.1->mlflow) (3.1.1)\n",
      "Requirement already satisfied: databricks-sdk<1,>=0.20.0 in c:\\users\\ayush\\onedrive\\desktop\\capstone project\\capstone-project\\.venv\\lib\\site-packages (from mlflow-skinny==3.5.1->mlflow) (0.70.0)\n",
      "Requirement already satisfied: fastapi<1 in c:\\users\\ayush\\onedrive\\desktop\\capstone project\\capstone-project\\.venv\\lib\\site-packages (from mlflow-skinny==3.5.1->mlflow) (0.120.0)\n",
      "Requirement already satisfied: gitpython<4,>=3.1.9 in c:\\users\\ayush\\onedrive\\desktop\\capstone project\\capstone-project\\.venv\\lib\\site-packages (from mlflow-skinny==3.5.1->mlflow) (3.1.45)\n",
      "Requirement already satisfied: importlib_metadata!=4.7.0,<9,>=3.7.0 in c:\\users\\ayush\\onedrive\\desktop\\capstone project\\capstone-project\\.venv\\lib\\site-packages (from mlflow-skinny==3.5.1->mlflow) (8.7.0)\n",
      "Requirement already satisfied: opentelemetry-api<3,>=1.9.0 in c:\\users\\ayush\\onedrive\\desktop\\capstone project\\capstone-project\\.venv\\lib\\site-packages (from mlflow-skinny==3.5.1->mlflow) (1.38.0)\n",
      "Requirement already satisfied: opentelemetry-proto<3,>=1.9.0 in c:\\users\\ayush\\onedrive\\desktop\\capstone project\\capstone-project\\.venv\\lib\\site-packages (from mlflow-skinny==3.5.1->mlflow) (1.38.0)\n",
      "Requirement already satisfied: opentelemetry-sdk<3,>=1.9.0 in c:\\users\\ayush\\onedrive\\desktop\\capstone project\\capstone-project\\.venv\\lib\\site-packages (from mlflow-skinny==3.5.1->mlflow) (1.38.0)\n",
      "Requirement already satisfied: packaging<26 in c:\\users\\ayush\\onedrive\\desktop\\capstone project\\capstone-project\\.venv\\lib\\site-packages (from mlflow-skinny==3.5.1->mlflow) (25.0)\n",
      "Requirement already satisfied: protobuf<7,>=3.12.0 in c:\\users\\ayush\\onedrive\\desktop\\capstone project\\capstone-project\\.venv\\lib\\site-packages (from mlflow-skinny==3.5.1->mlflow) (4.25.8)\n",
      "Requirement already satisfied: pydantic<3,>=1.10.8 in c:\\users\\ayush\\onedrive\\desktop\\capstone project\\capstone-project\\.venv\\lib\\site-packages (from mlflow-skinny==3.5.1->mlflow) (2.12.3)\n",
      "Requirement already satisfied: python-dotenv<2,>=0.19.0 in c:\\users\\ayush\\onedrive\\desktop\\capstone project\\capstone-project\\.venv\\lib\\site-packages (from mlflow-skinny==3.5.1->mlflow) (1.1.1)\n",
      "Requirement already satisfied: pyyaml<7,>=5.1 in c:\\users\\ayush\\onedrive\\desktop\\capstone project\\capstone-project\\.venv\\lib\\site-packages (from mlflow-skinny==3.5.1->mlflow) (6.0.3)\n",
      "Requirement already satisfied: requests<3,>=2.17.3 in c:\\users\\ayush\\onedrive\\desktop\\capstone project\\capstone-project\\.venv\\lib\\site-packages (from mlflow-skinny==3.5.1->mlflow) (2.32.5)\n",
      "Requirement already satisfied: sqlparse<1,>=0.4.0 in c:\\users\\ayush\\onedrive\\desktop\\capstone project\\capstone-project\\.venv\\lib\\site-packages (from mlflow-skinny==3.5.1->mlflow) (0.5.3)\n",
      "Requirement already satisfied: typing-extensions<5,>=4.0.0 in c:\\users\\ayush\\onedrive\\desktop\\capstone project\\capstone-project\\.venv\\lib\\site-packages (from mlflow-skinny==3.5.1->mlflow) (4.15.0)\n",
      "Requirement already satisfied: uvicorn<1 in c:\\users\\ayush\\onedrive\\desktop\\capstone project\\capstone-project\\.venv\\lib\\site-packages (from mlflow-skinny==3.5.1->mlflow) (0.38.0)\n",
      "Requirement already satisfied: threadpoolctl>=3.1.0 in c:\\users\\ayush\\onedrive\\desktop\\capstone project\\capstone-project\\.venv\\lib\\site-packages (from scikit-learn) (3.6.0)\n",
      "Requirement already satisfied: python-dateutil>=2.8.2 in c:\\users\\ayush\\onedrive\\desktop\\capstone project\\capstone-project\\.venv\\lib\\site-packages (from pandas) (2.9.0.post0)\n",
      "Requirement already satisfied: pytz>=2020.1 in c:\\users\\ayush\\onedrive\\desktop\\capstone project\\capstone-project\\.venv\\lib\\site-packages (from pandas) (2023.4)\n",
      "Requirement already satisfied: tzdata>=2022.7 in c:\\users\\ayush\\onedrive\\desktop\\capstone project\\capstone-project\\.venv\\lib\\site-packages (from pandas) (2025.2)\n",
      "Requirement already satisfied: Mako in c:\\users\\ayush\\onedrive\\desktop\\capstone project\\capstone-project\\.venv\\lib\\site-packages (from alembic!=1.10.0,<2->mlflow) (1.3.10)\n",
      "Requirement already satisfied: colorama in c:\\users\\ayush\\onedrive\\desktop\\capstone project\\capstone-project\\.venv\\lib\\site-packages (from click->nltk) (0.4.6)\n",
      "Requirement already satisfied: cffi>=2.0.0 in c:\\users\\ayush\\onedrive\\desktop\\capstone project\\capstone-project\\.venv\\lib\\site-packages (from cryptography<47,>=43.0.0->mlflow) (2.0.0)\n",
      "Requirement already satisfied: pywin32>=304 in c:\\users\\ayush\\onedrive\\desktop\\capstone project\\capstone-project\\.venv\\lib\\site-packages (from docker<8,>=4.0.0->mlflow) (311)\n",
      "Requirement already satisfied: urllib3>=1.26.0 in c:\\users\\ayush\\onedrive\\desktop\\capstone project\\capstone-project\\.venv\\lib\\site-packages (from docker<8,>=4.0.0->mlflow) (2.5.0)\n",
      "Requirement already satisfied: blinker>=1.9.0 in c:\\users\\ayush\\onedrive\\desktop\\capstone project\\capstone-project\\.venv\\lib\\site-packages (from Flask<4->mlflow) (1.9.0)\n",
      "Requirement already satisfied: itsdangerous>=2.2.0 in c:\\users\\ayush\\onedrive\\desktop\\capstone project\\capstone-project\\.venv\\lib\\site-packages (from Flask<4->mlflow) (2.2.0)\n",
      "Requirement already satisfied: jinja2>=3.1.2 in c:\\users\\ayush\\onedrive\\desktop\\capstone project\\capstone-project\\.venv\\lib\\site-packages (from Flask<4->mlflow) (3.1.6)\n",
      "Requirement already satisfied: markupsafe>=2.1.1 in c:\\users\\ayush\\onedrive\\desktop\\capstone project\\capstone-project\\.venv\\lib\\site-packages (from Flask<4->mlflow) (3.0.3)\n",
      "Requirement already satisfied: werkzeug>=3.1.0 in c:\\users\\ayush\\onedrive\\desktop\\capstone project\\capstone-project\\.venv\\lib\\site-packages (from Flask<4->mlflow) (3.1.3)\n",
      "Requirement already satisfied: graphql-core<3.3,>=3.1 in c:\\users\\ayush\\onedrive\\desktop\\capstone project\\capstone-project\\.venv\\lib\\site-packages (from graphene<4->mlflow) (3.2.6)\n",
      "Requirement already satisfied: graphql-relay<3.3,>=3.1 in c:\\users\\ayush\\onedrive\\desktop\\capstone project\\capstone-project\\.venv\\lib\\site-packages (from graphene<4->mlflow) (3.2.0)\n",
      "Requirement already satisfied: contourpy>=1.0.1 in c:\\users\\ayush\\onedrive\\desktop\\capstone project\\capstone-project\\.venv\\lib\\site-packages (from matplotlib<4->mlflow) (1.3.3)\n",
      "Requirement already satisfied: cycler>=0.10 in c:\\users\\ayush\\onedrive\\desktop\\capstone project\\capstone-project\\.venv\\lib\\site-packages (from matplotlib<4->mlflow) (0.12.1)\n",
      "Requirement already satisfied: fonttools>=4.22.0 in c:\\users\\ayush\\onedrive\\desktop\\capstone project\\capstone-project\\.venv\\lib\\site-packages (from matplotlib<4->mlflow) (4.60.1)\n",
      "Requirement already satisfied: kiwisolver>=1.3.1 in c:\\users\\ayush\\onedrive\\desktop\\capstone project\\capstone-project\\.venv\\lib\\site-packages (from matplotlib<4->mlflow) (1.4.9)\n",
      "Requirement already satisfied: pillow>=8 in c:\\users\\ayush\\onedrive\\desktop\\capstone project\\capstone-project\\.venv\\lib\\site-packages (from matplotlib<4->mlflow) (12.0.0)\n",
      "Requirement already satisfied: pyparsing>=3 in c:\\users\\ayush\\onedrive\\desktop\\capstone project\\capstone-project\\.venv\\lib\\site-packages (from matplotlib<4->mlflow) (3.2.5)\n",
      "Requirement already satisfied: six>=1.5 in c:\\users\\ayush\\onedrive\\desktop\\capstone project\\capstone-project\\.venv\\lib\\site-packages (from python-dateutil>=2.8.2->pandas) (1.17.0)\n",
      "Requirement already satisfied: greenlet>=1 in c:\\users\\ayush\\onedrive\\desktop\\capstone project\\capstone-project\\.venv\\lib\\site-packages (from sqlalchemy<3,>=1.4.0->mlflow) (3.2.4)\n",
      "Requirement already satisfied: pycparser in c:\\users\\ayush\\onedrive\\desktop\\capstone project\\capstone-project\\.venv\\lib\\site-packages (from cffi>=2.0.0->cryptography<47,>=43.0.0->mlflow) (2.23)\n",
      "Requirement already satisfied: google-auth~=2.0 in c:\\users\\ayush\\onedrive\\desktop\\capstone project\\capstone-project\\.venv\\lib\\site-packages (from databricks-sdk<1,>=0.20.0->mlflow-skinny==3.5.1->mlflow) (2.41.1)\n",
      "Requirement already satisfied: starlette<0.49.0,>=0.40.0 in c:\\users\\ayush\\onedrive\\desktop\\capstone project\\capstone-project\\.venv\\lib\\site-packages (from fastapi<1->mlflow-skinny==3.5.1->mlflow) (0.48.0)\n",
      "Requirement already satisfied: annotated-doc>=0.0.2 in c:\\users\\ayush\\onedrive\\desktop\\capstone project\\capstone-project\\.venv\\lib\\site-packages (from fastapi<1->mlflow-skinny==3.5.1->mlflow) (0.0.2)\n",
      "Requirement already satisfied: gitdb<5,>=4.0.1 in c:\\users\\ayush\\onedrive\\desktop\\capstone project\\capstone-project\\.venv\\lib\\site-packages (from gitpython<4,>=3.1.9->mlflow-skinny==3.5.1->mlflow) (4.0.12)\n",
      "Requirement already satisfied: zipp>=3.20 in c:\\users\\ayush\\onedrive\\desktop\\capstone project\\capstone-project\\.venv\\lib\\site-packages (from importlib_metadata!=4.7.0,<9,>=3.7.0->mlflow-skinny==3.5.1->mlflow) (3.23.0)\n",
      "Collecting protobuf<7,>=3.12.0\n",
      "  Using cached protobuf-6.33.0-cp310-abi3-win_amd64.whl (436 kB)\n",
      "Requirement already satisfied: opentelemetry-semantic-conventions==0.59b0 in c:\\users\\ayush\\onedrive\\desktop\\capstone project\\capstone-project\\.venv\\lib\\site-packages (from opentelemetry-sdk<3,>=1.9.0->mlflow-skinny==3.5.1->mlflow) (0.59b0)\n",
      "Requirement already satisfied: annotated-types>=0.6.0 in c:\\users\\ayush\\onedrive\\desktop\\capstone project\\capstone-project\\.venv\\lib\\site-packages (from pydantic<3,>=1.10.8->mlflow-skinny==3.5.1->mlflow) (0.7.0)\n",
      "Requirement already satisfied: pydantic-core==2.41.4 in c:\\users\\ayush\\onedrive\\desktop\\capstone project\\capstone-project\\.venv\\lib\\site-packages (from pydantic<3,>=1.10.8->mlflow-skinny==3.5.1->mlflow) (2.41.4)\n",
      "Requirement already satisfied: typing-inspection>=0.4.2 in c:\\users\\ayush\\onedrive\\desktop\\capstone project\\capstone-project\\.venv\\lib\\site-packages (from pydantic<3,>=1.10.8->mlflow-skinny==3.5.1->mlflow) (0.4.2)\n",
      "Requirement already satisfied: charset_normalizer<4,>=2 in c:\\users\\ayush\\onedrive\\desktop\\capstone project\\capstone-project\\.venv\\lib\\site-packages (from requests<3,>=2.17.3->mlflow-skinny==3.5.1->mlflow) (3.4.4)\n",
      "Requirement already satisfied: idna<4,>=2.5 in c:\\users\\ayush\\onedrive\\desktop\\capstone project\\capstone-project\\.venv\\lib\\site-packages (from requests<3,>=2.17.3->mlflow-skinny==3.5.1->mlflow) (3.11)\n",
      "Requirement already satisfied: certifi>=2017.4.17 in c:\\users\\ayush\\onedrive\\desktop\\capstone project\\capstone-project\\.venv\\lib\\site-packages (from requests<3,>=2.17.3->mlflow-skinny==3.5.1->mlflow) (2025.10.5)\n",
      "Requirement already satisfied: h11>=0.8 in c:\\users\\ayush\\onedrive\\desktop\\capstone project\\capstone-project\\.venv\\lib\\site-packages (from uvicorn<1->mlflow-skinny==3.5.1->mlflow) (0.16.0)\n",
      "Requirement already satisfied: smmap<6,>=3.0.1 in c:\\users\\ayush\\onedrive\\desktop\\capstone project\\capstone-project\\.venv\\lib\\site-packages (from gitdb<5,>=4.0.1->gitpython<4,>=3.1.9->mlflow-skinny==3.5.1->mlflow) (5.0.2)\n",
      "Requirement already satisfied: pyasn1-modules>=0.2.1 in c:\\users\\ayush\\onedrive\\desktop\\capstone project\\capstone-project\\.venv\\lib\\site-packages (from google-auth~=2.0->databricks-sdk<1,>=0.20.0->mlflow-skinny==3.5.1->mlflow) (0.4.2)\n",
      "Requirement already satisfied: rsa<5,>=3.1.4 in c:\\users\\ayush\\onedrive\\desktop\\capstone project\\capstone-project\\.venv\\lib\\site-packages (from google-auth~=2.0->databricks-sdk<1,>=0.20.0->mlflow-skinny==3.5.1->mlflow) (4.9.1)\n",
      "Requirement already satisfied: anyio<5,>=3.6.2 in c:\\users\\ayush\\onedrive\\desktop\\capstone project\\capstone-project\\.venv\\lib\\site-packages (from starlette<0.49.0,>=0.40.0->fastapi<1->mlflow-skinny==3.5.1->mlflow) (4.11.0)\n",
      "Requirement already satisfied: sniffio>=1.1 in c:\\users\\ayush\\onedrive\\desktop\\capstone project\\capstone-project\\.venv\\lib\\site-packages (from anyio<5,>=3.6.2->starlette<0.49.0,>=0.40.0->fastapi<1->mlflow-skinny==3.5.1->mlflow) (1.3.1)\n",
      "Requirement already satisfied: pyasn1<0.7.0,>=0.6.1 in c:\\users\\ayush\\onedrive\\desktop\\capstone project\\capstone-project\\.venv\\lib\\site-packages (from pyasn1-modules>=0.2.1->google-auth~=2.0->databricks-sdk<1,>=0.20.0->mlflow-skinny==3.5.1->mlflow) (0.6.1)\n",
      "Installing collected packages: protobuf\n",
      "  Attempting uninstall: protobuf\n",
      "    Found existing installation: protobuf 4.25.8\n",
      "    Uninstalling protobuf-4.25.8:\n",
      "      Successfully uninstalled protobuf-4.25.8\n",
      "Successfully installed protobuf-6.33.0\n"
     ]
    },
    {
     "name": "stderr",
     "output_type": "stream",
     "text": [
      "WARNING: There was an error checking the latest version of pip.\n",
      "[nltk_data] Downloading package stopwords to\n",
      "[nltk_data]     C:\\Users\\ayush\\AppData\\Roaming\\nltk_data...\n",
      "[nltk_data]   Package stopwords is already up-to-date!\n",
      "[nltk_data] Downloading package wordnet to\n",
      "[nltk_data]     C:\\Users\\ayush\\AppData\\Roaming\\nltk_data...\n",
      "[nltk_data]   Package wordnet is already up-to-date!\n"
     ]
    }
   ],
   "source": [
    "# Install required library\n",
    "!pip install nltk mlflow scikit-learn pandas numpy\n",
    "\n",
    "# Import all necessary packages\n",
    "import nltk\n",
    "nltk.download('stopwords')\n",
    "nltk.download('wordnet')\n",
    "\n",
    "import mlflow\n",
    "import mlflow.sklearn\n",
    "import pandas as pd\n",
    "import numpy as np\n",
    "import re\n",
    "import string\n",
    "\n",
    "from nltk.corpus import stopwords\n",
    "from nltk.stem import WordNetLemmatizer\n",
    "from sklearn.feature_extraction.text import CountVectorizer\n",
    "from sklearn.model_selection import train_test_split\n",
    "from sklearn.linear_model import LogisticRegression\n",
    "from sklearn.metrics import accuracy_score, precision_score, recall_score, f1_score\n"
   ]
  },
  {
   "cell_type": "code",
   "execution_count": 2,
   "metadata": {},
   "outputs": [
    {
     "data": {
      "text/html": [
       "<div>\n",
       "<style scoped>\n",
       "    .dataframe tbody tr th:only-of-type {\n",
       "        vertical-align: middle;\n",
       "    }\n",
       "\n",
       "    .dataframe tbody tr th {\n",
       "        vertical-align: top;\n",
       "    }\n",
       "\n",
       "    .dataframe thead th {\n",
       "        text-align: right;\n",
       "    }\n",
       "</style>\n",
       "<table border=\"1\" class=\"dataframe\">\n",
       "  <thead>\n",
       "    <tr style=\"text-align: right;\">\n",
       "      <th></th>\n",
       "      <th>review</th>\n",
       "      <th>sentiment</th>\n",
       "    </tr>\n",
       "  </thead>\n",
       "  <tbody>\n",
       "    <tr>\n",
       "      <th>940</th>\n",
       "      <td>For me personally this film goes down in my to...</td>\n",
       "      <td>positive</td>\n",
       "    </tr>\n",
       "    <tr>\n",
       "      <th>437</th>\n",
       "      <td>Oh dear. I was so disappointed that this movie...</td>\n",
       "      <td>negative</td>\n",
       "    </tr>\n",
       "    <tr>\n",
       "      <th>442</th>\n",
       "      <td>quite good, don't expect anything high culture...</td>\n",
       "      <td>positive</td>\n",
       "    </tr>\n",
       "    <tr>\n",
       "      <th>693</th>\n",
       "      <td>Every movie from the thirties is dated, but if...</td>\n",
       "      <td>negative</td>\n",
       "    </tr>\n",
       "    <tr>\n",
       "      <th>484</th>\n",
       "      <td>Another attempt by modern Japanese directors t...</td>\n",
       "      <td>positive</td>\n",
       "    </tr>\n",
       "  </tbody>\n",
       "</table>\n",
       "</div>"
      ],
      "text/plain": [
       "                                                review sentiment\n",
       "940  For me personally this film goes down in my to...  positive\n",
       "437  Oh dear. I was so disappointed that this movie...  negative\n",
       "442  quite good, don't expect anything high culture...  positive\n",
       "693  Every movie from the thirties is dated, but if...  negative\n",
       "484  Another attempt by modern Japanese directors t...  positive"
      ]
     },
     "execution_count": 2,
     "metadata": {},
     "output_type": "execute_result"
    }
   ],
   "source": [
    "df = pd.read_csv('IMDB.csv')\n",
    "df = df.sample(500)\n",
    "df.to_csv('data.csv', index=False)\n",
    "df.head()"
   ]
  },
  {
   "cell_type": "code",
   "execution_count": 3,
   "metadata": {},
   "outputs": [],
   "source": [
    "# data preprocessing\n",
    "\n",
    "# Define text preprocessing functions\n",
    "def lemmatization(text):\n",
    "    \"\"\"Lemmatize the text.\"\"\"\n",
    "    lemmatizer = WordNetLemmatizer()\n",
    "    text = text.split()\n",
    "    text = [lemmatizer.lemmatize(word) for word in text]\n",
    "    return \" \".join(text)\n",
    "\n",
    "def remove_stop_words(text):\n",
    "    \"\"\"Remove stop words from the text.\"\"\"\n",
    "    stop_words = set(stopwords.words(\"english\"))\n",
    "    text = [word for word in str(text).split() if word not in stop_words]\n",
    "    return \" \".join(text)\n",
    "\n",
    "def removing_numbers(text):\n",
    "    \"\"\"Remove numbers from the text.\"\"\"\n",
    "    text = ''.join([char for char in text if not char.isdigit()])\n",
    "    return text\n",
    "\n",
    "def lower_case(text):\n",
    "    \"\"\"Convert text to lower case.\"\"\"\n",
    "    text = text.split()\n",
    "    text = [word.lower() for word in text]\n",
    "    return \" \".join(text)\n",
    "\n",
    "def removing_punctuations(text):\n",
    "    \"\"\"Remove punctuations from the text.\"\"\"\n",
    "    text = re.sub('[%s]' % re.escape(string.punctuation), ' ', text)\n",
    "    text = text.replace('؛', \"\")\n",
    "    text = re.sub('\\s+', ' ', text).strip()\n",
    "    return text\n",
    "\n",
    "def removing_urls(text):\n",
    "    \"\"\"Remove URLs from the text.\"\"\"\n",
    "    url_pattern = re.compile(r'https?://\\S+|www\\.\\S+')\n",
    "    return url_pattern.sub(r'', text)\n",
    "\n",
    "def normalize_text(df):\n",
    "    \"\"\"Normalize the text data.\"\"\"\n",
    "    try:\n",
    "        df['review'] = df['review'].apply(lower_case)\n",
    "        df['review'] = df['review'].apply(remove_stop_words)\n",
    "        df['review'] = df['review'].apply(removing_numbers)\n",
    "        df['review'] = df['review'].apply(removing_punctuations)\n",
    "        df['review'] = df['review'].apply(removing_urls)\n",
    "        df['review'] = df['review'].apply(lemmatization)\n",
    "        return df\n",
    "    except Exception as e:\n",
    "        print(f'Error during text normalization: {e}')\n",
    "        raise"
   ]
  },
  {
   "cell_type": "code",
   "execution_count": 4,
   "metadata": {},
   "outputs": [
    {
     "data": {
      "text/html": [
       "<div>\n",
       "<style scoped>\n",
       "    .dataframe tbody tr th:only-of-type {\n",
       "        vertical-align: middle;\n",
       "    }\n",
       "\n",
       "    .dataframe tbody tr th {\n",
       "        vertical-align: top;\n",
       "    }\n",
       "\n",
       "    .dataframe thead th {\n",
       "        text-align: right;\n",
       "    }\n",
       "</style>\n",
       "<table border=\"1\" class=\"dataframe\">\n",
       "  <thead>\n",
       "    <tr style=\"text-align: right;\">\n",
       "      <th></th>\n",
       "      <th>review</th>\n",
       "      <th>sentiment</th>\n",
       "    </tr>\n",
       "  </thead>\n",
       "  <tbody>\n",
       "    <tr>\n",
       "      <th>940</th>\n",
       "      <td>personally film go top four time exception jam...</td>\n",
       "      <td>positive</td>\n",
       "    </tr>\n",
       "    <tr>\n",
       "      <th>437</th>\n",
       "      <td>oh dear disappointed movie rip off japan s rin...</td>\n",
       "      <td>negative</td>\n",
       "    </tr>\n",
       "    <tr>\n",
       "      <th>442</th>\n",
       "      <td>quite good expect anything high culture the ac...</td>\n",
       "      <td>positive</td>\n",
       "    </tr>\n",
       "    <tr>\n",
       "      <th>693</th>\n",
       "      <td>every movie thirty dated watch john ford movie...</td>\n",
       "      <td>negative</td>\n",
       "    </tr>\n",
       "    <tr>\n",
       "      <th>484</th>\n",
       "      <td>another attempt modern japanese director redef...</td>\n",
       "      <td>positive</td>\n",
       "    </tr>\n",
       "  </tbody>\n",
       "</table>\n",
       "</div>"
      ],
      "text/plain": [
       "                                                review sentiment\n",
       "940  personally film go top four time exception jam...  positive\n",
       "437  oh dear disappointed movie rip off japan s rin...  negative\n",
       "442  quite good expect anything high culture the ac...  positive\n",
       "693  every movie thirty dated watch john ford movie...  negative\n",
       "484  another attempt modern japanese director redef...  positive"
      ]
     },
     "execution_count": 4,
     "metadata": {},
     "output_type": "execute_result"
    }
   ],
   "source": [
    "df = normalize_text(df)\n",
    "df.head()"
   ]
  },
  {
   "cell_type": "code",
   "execution_count": 5,
   "metadata": {},
   "outputs": [
    {
     "data": {
      "text/plain": [
       "sentiment\n",
       "negative    251\n",
       "positive    249\n",
       "Name: count, dtype: int64"
      ]
     },
     "execution_count": 5,
     "metadata": {},
     "output_type": "execute_result"
    }
   ],
   "source": [
    "df['sentiment'].value_counts()"
   ]
  },
  {
   "cell_type": "code",
   "execution_count": 6,
   "metadata": {},
   "outputs": [],
   "source": [
    "x = df['sentiment'].isin(['positive','negative'])\n",
    "df = df[x]"
   ]
  },
  {
   "cell_type": "code",
   "execution_count": 7,
   "metadata": {},
   "outputs": [
    {
     "data": {
      "text/html": [
       "<div>\n",
       "<style scoped>\n",
       "    .dataframe tbody tr th:only-of-type {\n",
       "        vertical-align: middle;\n",
       "    }\n",
       "\n",
       "    .dataframe tbody tr th {\n",
       "        vertical-align: top;\n",
       "    }\n",
       "\n",
       "    .dataframe thead th {\n",
       "        text-align: right;\n",
       "    }\n",
       "</style>\n",
       "<table border=\"1\" class=\"dataframe\">\n",
       "  <thead>\n",
       "    <tr style=\"text-align: right;\">\n",
       "      <th></th>\n",
       "      <th>review</th>\n",
       "      <th>sentiment</th>\n",
       "    </tr>\n",
       "  </thead>\n",
       "  <tbody>\n",
       "    <tr>\n",
       "      <th>940</th>\n",
       "      <td>personally film go top four time exception jam...</td>\n",
       "      <td>1</td>\n",
       "    </tr>\n",
       "    <tr>\n",
       "      <th>437</th>\n",
       "      <td>oh dear disappointed movie rip off japan s rin...</td>\n",
       "      <td>0</td>\n",
       "    </tr>\n",
       "    <tr>\n",
       "      <th>442</th>\n",
       "      <td>quite good expect anything high culture the ac...</td>\n",
       "      <td>1</td>\n",
       "    </tr>\n",
       "    <tr>\n",
       "      <th>693</th>\n",
       "      <td>every movie thirty dated watch john ford movie...</td>\n",
       "      <td>0</td>\n",
       "    </tr>\n",
       "    <tr>\n",
       "      <th>484</th>\n",
       "      <td>another attempt modern japanese director redef...</td>\n",
       "      <td>1</td>\n",
       "    </tr>\n",
       "  </tbody>\n",
       "</table>\n",
       "</div>"
      ],
      "text/plain": [
       "                                                review  sentiment\n",
       "940  personally film go top four time exception jam...          1\n",
       "437  oh dear disappointed movie rip off japan s rin...          0\n",
       "442  quite good expect anything high culture the ac...          1\n",
       "693  every movie thirty dated watch john ford movie...          0\n",
       "484  another attempt modern japanese director redef...          1"
      ]
     },
     "execution_count": 7,
     "metadata": {},
     "output_type": "execute_result"
    }
   ],
   "source": [
    "df['sentiment'] = df['sentiment'].map({'positive':1, 'negative':0})\n",
    "df.head()"
   ]
  },
  {
   "cell_type": "code",
   "execution_count": 8,
   "metadata": {},
   "outputs": [
    {
     "data": {
      "text/plain": [
       "review       0\n",
       "sentiment    0\n",
       "dtype: int64"
      ]
     },
     "execution_count": 8,
     "metadata": {},
     "output_type": "execute_result"
    }
   ],
   "source": [
    "df.isnull().sum()"
   ]
  },
  {
   "cell_type": "code",
   "execution_count": 9,
   "metadata": {},
   "outputs": [],
   "source": [
    "vectorizer = CountVectorizer(max_features=100)\n",
    "X = vectorizer.fit_transform(df['review'])\n",
    "y = df['sentiment']"
   ]
  },
  {
   "cell_type": "code",
   "execution_count": 10,
   "metadata": {},
   "outputs": [],
   "source": [
    "X_train, X_test, y_train, y_test = train_test_split(X, y, test_size=0.25, random_state=42)"
   ]
  },
  {
   "cell_type": "code",
   "execution_count": 11,
   "metadata": {},
   "outputs": [
    {
     "data": {
      "text/html": [
       "<pre style=\"white-space:pre;overflow-x:auto;line-height:normal;font-family:Menlo,'DejaVu Sans Mono',consolas,'Courier New',monospace\">Accessing as ayusprasad\n",
       "</pre>\n"
      ],
      "text/plain": [
       "Accessing as ayusprasad\n"
      ]
     },
     "metadata": {},
     "output_type": "display_data"
    },
    {
     "data": {
      "text/html": [
       "<pre style=\"white-space:pre;overflow-x:auto;line-height:normal;font-family:Menlo,'DejaVu Sans Mono',consolas,'Courier New',monospace\">Initialized MLflow to track repo <span style=\"color: #008000; text-decoration-color: #008000\">\"ayusprasad/capstone-project\"</span>\n",
       "</pre>\n"
      ],
      "text/plain": [
       "Initialized MLflow to track repo \u001b[32m\"ayusprasad/capstone-project\"\u001b[0m\n"
      ]
     },
     "metadata": {},
     "output_type": "display_data"
    },
    {
     "data": {
      "text/html": [
       "<pre style=\"white-space:pre;overflow-x:auto;line-height:normal;font-family:Menlo,'DejaVu Sans Mono',consolas,'Courier New',monospace\">Repository ayusprasad/capstone-project initialized!\n",
       "</pre>\n"
      ],
      "text/plain": [
       "Repository ayusprasad/capstone-project initialized!\n"
      ]
     },
     "metadata": {},
     "output_type": "display_data"
    },
    {
     "name": "stdout",
     "output_type": "stream",
     "text": [
      "🏃 View run bright-auk-771 at: https://dagshub.com/ayusprasad/capstone-project.mlflow/#/experiments/0/runs/0b38ad5d1f244d4a9b53532c8e2d46e5\n",
      "🧪 View experiment at: https://dagshub.com/ayusprasad/capstone-project.mlflow/#/experiments/0\n"
     ]
    }
   ],
   "source": [
    "import os\n",
    "import dagshub\n",
    "import mlflow\n",
    "from dotenv import load_dotenv\n",
    "\n",
    "# Load environment variables from .env file\n",
    "load_dotenv()\n",
    "\n",
    "# Set MLflow tracking URI from environment variable\n",
    "mlflow_uri = os.getenv(\"MLFLOW_TRACKING_URI\")\n",
    "mlflow.set_tracking_uri(mlflow_uri)\n",
    "\n",
    "# Initialize dagshub with credentials from environment variables\n",
    "dagshub.init(\n",
    "    repo_owner=os.getenv(\"DAGSHUB_REPO_OWNER\"),\n",
    "    repo_name=os.getenv(\"DAGSHUB_REPO_NAME\"),\n",
    "    mlflow=True\n",
    ")\n",
    "\n",
    "# Configuration dictionary with environment variables\n",
    "config = {\n",
    "    \"data_path\": os.getenv(\"DATA_PATH\", \"notebooks/data.csv\"),\n",
    "    \"test_size\": 0.2,\n",
    "    \"mlflow_tracking_uri\": os.getenv(\"MLFLOW_TRACKING_URI\"),\n",
    "    \"dagshub_repo_owner\": os.getenv(\"DAGSHUB_REPO_OWNER\"),\n",
    "    \"dagshub_repo_name\": os.getenv(\"DAGSHUB_REPO_NAME\")\n",
    "}\n",
    "\n",
    "# Set up MLflow experiment\n",
    "mlflow.set_experiment(\"Logistic Regression Baseline\")\n",
    "\n",
    "# Example of logging parameters and metrics\n",
    "with mlflow.start_run():\n",
    "    # Log actual parameters from your configuration\n",
    "    for key, value in config.items():\n",
    "        mlflow.log_param(key, value)"
   ]
  },
  {
   "cell_type": "code",
   "execution_count": 12,
   "metadata": {},
   "outputs": [
    {
     "name": "stdout",
     "output_type": "stream",
     "text": [
      "🏃 View run awesome-trout-667 at: https://dagshub.com/ayusprasad/capstone-project.mlflow/#/experiments/0/runs/7978ed16f8a84611bc873825fab67fb6\n",
      "🧪 View experiment at: https://dagshub.com/ayusprasad/capstone-project.mlflow/#/experiments/0\n"
     ]
    }
   ],
   "source": [
    "import mlflow\n",
    "import logging\n",
    "import os\n",
    "import time\n",
    "import shutil\n",
    "from sklearn.linear_model import LogisticRegression\n",
    "from sklearn.metrics import accuracy_score, precision_score, recall_score, f1_score\n",
    "\n",
    "# Start MLflow run\n",
    "with mlflow.start_run():\n",
    "    start_time = time.time()\n",
    "\n",
    "    # Log parameters\n",
    "    mlflow.log_param(\"vectorizer\", \"Bag of Words\")\n",
    "    mlflow.log_param(\"num_features\", 100)\n",
    "    mlflow.log_param(\"test_size\", 0.25)\n",
    "\n",
    "    # Train model\n",
    "    model = LogisticRegression(max_iter=1000)\n",
    "    model.fit(X_train, y_train)\n",
    "    mlflow.log_param(\"model\", \"Logistic Regression\")\n",
    "\n",
    "    # Predictions\n",
    "    y_pred = model.predict(X_test)\n",
    "\n",
    "    # Calculate metrics\n",
    "    accuracy = accuracy_score(y_test, y_pred)\n",
    "    precision = precision_score(y_test, y_pred, zero_division=0)\n",
    "    recall = recall_score(y_test, y_pred, zero_division=0)\n",
    "    f1 = f1_score(y_test, y_pred, zero_division=0)\n",
    "\n",
    "    # Log metrics\n",
    "    mlflow.log_metric(\"accuracy\", accuracy)\n",
    "    mlflow.log_metric(\"precision\", precision)\n",
    "    mlflow.log_metric(\"recall\", recall)\n",
    "    mlflow.log_metric(\"f1_score\", f1)\n",
    "\n",
    "    # ✅ Save model locally (fixes: \"Path already exists and is not empty\")\n",
    "    local_model_path = \"logged_models/logistic_regression\"\n",
    "    if os.path.exists(local_model_path):\n",
    "        shutil.rmtree(local_model_path)  # remove existing folder safely\n",
    "    os.makedirs(local_model_path, exist_ok=True)\n",
    "\n",
    "    mlflow.sklearn.save_model(model, local_model_path)\n",
    "\n",
    "    # Optionally, log model as artifact instead of model registry\n",
    "    mlflow.log_artifact(local_model_path)\n",
    "\n",
    "    end_time = time.time()\n",
    "    logging.info(f\"Completed in {end_time - start_time:.2f} seconds.\")\n"
   ]
  },
  {
   "cell_type": "code",
   "execution_count": null,
   "metadata": {},
   "outputs": [],
   "source": []
  }
 ],
 "metadata": {
  "kernelspec": {
   "display_name": ".venv",
   "language": "python",
   "name": "python3"
  },
  "language_info": {
   "codemirror_mode": {
    "name": "ipython",
    "version": 3
   },
   "file_extension": ".py",
   "mimetype": "text/x-python",
   "name": "python",
   "nbconvert_exporter": "python",
   "pygments_lexer": "ipython3",
   "version": "3.11.0"
  }
 },
 "nbformat": 4,
 "nbformat_minor": 2
}
